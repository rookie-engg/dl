{
 "cells": [
  {
   "cell_type": "code",
   "execution_count": 12,
   "metadata": {},
   "outputs": [],
   "source": [
    "import pandas as pd\n",
    "import numpy as np\n",
    "from sklearn.model_selection import train_test_split"
   ]
  },
  {
   "cell_type": "code",
   "execution_count": 13,
   "metadata": {},
   "outputs": [],
   "source": [
    "columns = [\"lettr\", \"x-box\", \"y-box\", \"width\", \"height\", \"onpix\", \"x-bar\",\n",
    "           \"y-bar\", \"x2bar\", \"y2bar\", \"xybar\", \"x2ybr\", \"xy2br\", \"x-ege\", \"xegvy\",\n",
    "           \"y-ege\", \"yegvx\",]"
   ]
  },
  {
   "cell_type": "code",
   "execution_count": 14,
   "metadata": {},
   "outputs": [
    {
     "data": {
      "text/html": [
       "<div>\n",
       "<style scoped>\n",
       "    .dataframe tbody tr th:only-of-type {\n",
       "        vertical-align: middle;\n",
       "    }\n",
       "\n",
       "    .dataframe tbody tr th {\n",
       "        vertical-align: top;\n",
       "    }\n",
       "\n",
       "    .dataframe thead th {\n",
       "        text-align: right;\n",
       "    }\n",
       "</style>\n",
       "<table border=\"1\" class=\"dataframe\">\n",
       "  <thead>\n",
       "    <tr style=\"text-align: right;\">\n",
       "      <th></th>\n",
       "      <th>lettr</th>\n",
       "      <th>x-box</th>\n",
       "      <th>y-box</th>\n",
       "      <th>width</th>\n",
       "      <th>height</th>\n",
       "      <th>onpix</th>\n",
       "      <th>x-bar</th>\n",
       "      <th>y-bar</th>\n",
       "      <th>x2bar</th>\n",
       "      <th>y2bar</th>\n",
       "      <th>xybar</th>\n",
       "      <th>x2ybr</th>\n",
       "      <th>xy2br</th>\n",
       "      <th>x-ege</th>\n",
       "      <th>xegvy</th>\n",
       "      <th>y-ege</th>\n",
       "      <th>yegvx</th>\n",
       "    </tr>\n",
       "  </thead>\n",
       "  <tbody>\n",
       "    <tr>\n",
       "      <th>0</th>\n",
       "      <td>T</td>\n",
       "      <td>2</td>\n",
       "      <td>8</td>\n",
       "      <td>3</td>\n",
       "      <td>5</td>\n",
       "      <td>1</td>\n",
       "      <td>8</td>\n",
       "      <td>13</td>\n",
       "      <td>0</td>\n",
       "      <td>6</td>\n",
       "      <td>6</td>\n",
       "      <td>10</td>\n",
       "      <td>8</td>\n",
       "      <td>0</td>\n",
       "      <td>8</td>\n",
       "      <td>0</td>\n",
       "      <td>8</td>\n",
       "    </tr>\n",
       "    <tr>\n",
       "      <th>1</th>\n",
       "      <td>I</td>\n",
       "      <td>5</td>\n",
       "      <td>12</td>\n",
       "      <td>3</td>\n",
       "      <td>7</td>\n",
       "      <td>2</td>\n",
       "      <td>10</td>\n",
       "      <td>5</td>\n",
       "      <td>5</td>\n",
       "      <td>4</td>\n",
       "      <td>13</td>\n",
       "      <td>3</td>\n",
       "      <td>9</td>\n",
       "      <td>2</td>\n",
       "      <td>8</td>\n",
       "      <td>4</td>\n",
       "      <td>10</td>\n",
       "    </tr>\n",
       "    <tr>\n",
       "      <th>2</th>\n",
       "      <td>D</td>\n",
       "      <td>4</td>\n",
       "      <td>11</td>\n",
       "      <td>6</td>\n",
       "      <td>8</td>\n",
       "      <td>6</td>\n",
       "      <td>10</td>\n",
       "      <td>6</td>\n",
       "      <td>2</td>\n",
       "      <td>6</td>\n",
       "      <td>10</td>\n",
       "      <td>3</td>\n",
       "      <td>7</td>\n",
       "      <td>3</td>\n",
       "      <td>7</td>\n",
       "      <td>3</td>\n",
       "      <td>9</td>\n",
       "    </tr>\n",
       "    <tr>\n",
       "      <th>3</th>\n",
       "      <td>N</td>\n",
       "      <td>7</td>\n",
       "      <td>11</td>\n",
       "      <td>6</td>\n",
       "      <td>6</td>\n",
       "      <td>3</td>\n",
       "      <td>5</td>\n",
       "      <td>9</td>\n",
       "      <td>4</td>\n",
       "      <td>6</td>\n",
       "      <td>4</td>\n",
       "      <td>4</td>\n",
       "      <td>10</td>\n",
       "      <td>6</td>\n",
       "      <td>10</td>\n",
       "      <td>2</td>\n",
       "      <td>8</td>\n",
       "    </tr>\n",
       "    <tr>\n",
       "      <th>4</th>\n",
       "      <td>G</td>\n",
       "      <td>2</td>\n",
       "      <td>1</td>\n",
       "      <td>3</td>\n",
       "      <td>1</td>\n",
       "      <td>1</td>\n",
       "      <td>8</td>\n",
       "      <td>6</td>\n",
       "      <td>6</td>\n",
       "      <td>6</td>\n",
       "      <td>6</td>\n",
       "      <td>5</td>\n",
       "      <td>9</td>\n",
       "      <td>1</td>\n",
       "      <td>7</td>\n",
       "      <td>5</td>\n",
       "      <td>10</td>\n",
       "    </tr>\n",
       "  </tbody>\n",
       "</table>\n",
       "</div>"
      ],
      "text/plain": [
       "  lettr  x-box  y-box  width  height  onpix  x-bar  y-bar  x2bar  y2bar  \\\n",
       "0     T      2      8      3       5      1      8     13      0      6   \n",
       "1     I      5     12      3       7      2     10      5      5      4   \n",
       "2     D      4     11      6       8      6     10      6      2      6   \n",
       "3     N      7     11      6       6      3      5      9      4      6   \n",
       "4     G      2      1      3       1      1      8      6      6      6   \n",
       "\n",
       "   xybar  x2ybr  xy2br  x-ege  xegvy  y-ege  yegvx  \n",
       "0      6     10      8      0      8      0      8  \n",
       "1     13      3      9      2      8      4     10  \n",
       "2     10      3      7      3      7      3      9  \n",
       "3      4      4     10      6     10      2      8  \n",
       "4      6      5      9      1      7      5     10  "
      ]
     },
     "execution_count": 14,
     "metadata": {},
     "output_type": "execute_result"
    }
   ],
   "source": [
    "df = pd.read_csv('letter-recognition.data', names=columns)\n",
    "df.head()"
   ]
  },
  {
   "cell_type": "code",
   "execution_count": 15,
   "metadata": {},
   "outputs": [],
   "source": [
    "x = df.drop(\"lettr\", axis=1).values\n",
    "y = df[\"lettr\"].values"
   ]
  },
  {
   "cell_type": "code",
   "execution_count": 16,
   "metadata": {},
   "outputs": [
    {
     "data": {
      "text/plain": [
       "(20000, 16)"
      ]
     },
     "execution_count": 16,
     "metadata": {},
     "output_type": "execute_result"
    }
   ],
   "source": [
    "x.shape"
   ]
  },
  {
   "cell_type": "code",
   "execution_count": 17,
   "metadata": {},
   "outputs": [
    {
     "data": {
      "text/plain": [
       "(20000,)"
      ]
     },
     "execution_count": 17,
     "metadata": {},
     "output_type": "execute_result"
    }
   ],
   "source": [
    "y.shape"
   ]
  },
  {
   "cell_type": "code",
   "execution_count": 18,
   "metadata": {},
   "outputs": [
    {
     "data": {
      "text/plain": [
       "array(['A', 'B', 'C', 'D', 'E', 'F', 'G', 'H', 'I', 'J', 'K', 'L', 'M',\n",
       "       'N', 'O', 'P', 'Q', 'R', 'S', 'T', 'U', 'V', 'W', 'X', 'Y', 'Z'],\n",
       "      dtype=object)"
      ]
     },
     "execution_count": 18,
     "metadata": {},
     "output_type": "execute_result"
    }
   ],
   "source": [
    "np.unique(y)"
   ]
  },
  {
   "cell_type": "code",
   "execution_count": 19,
   "metadata": {},
   "outputs": [],
   "source": [
    "x_train, x_test, y_train, y_test = train_test_split(x, y, test_size=0.2)"
   ]
  },
  {
   "cell_type": "code",
   "execution_count": 20,
   "metadata": {},
   "outputs": [
    {
     "name": "stdout",
     "output_type": "stream",
     "text": [
      "Train Shape : (16000, 16)\n",
      "Test Shape : (4000, 16)\n",
      "y_train shape : (16000,)\n",
      "y_test shape : (4000,)\n"
     ]
    }
   ],
   "source": [
    "def shape():\n",
    "    print(\"Train Shape :\",x_train.shape)\n",
    "    print(\"Test Shape :\",x_test.shape)\n",
    "    print(\"y_train shape :\",y_train.shape)\n",
    "    print(\"y_test shape :\",y_test.shape)\n",
    "shape()"
   ]
  },
  {
   "cell_type": "code",
   "execution_count": 21,
   "metadata": {},
   "outputs": [
    {
     "data": {
      "text/plain": [
       "array([ 0,  0,  1,  0,  0,  6,  7,  6,  4,  7,  6,  8,  1,  8,  5, 10],\n",
       "      dtype=int64)"
      ]
     },
     "execution_count": 21,
     "metadata": {},
     "output_type": "execute_result"
    }
   ],
   "source": [
    "x_train[0]"
   ]
  },
  {
   "cell_type": "code",
   "execution_count": 22,
   "metadata": {},
   "outputs": [
    {
     "data": {
      "text/plain": [
       "'B'"
      ]
     },
     "execution_count": 22,
     "metadata": {},
     "output_type": "execute_result"
    }
   ],
   "source": [
    "y_train[0]"
   ]
  },
  {
   "cell_type": "code",
   "execution_count": 23,
   "metadata": {},
   "outputs": [],
   "source": [
    "class_names = ['A', 'B', 'C', 'D', 'E', 'F', 'G', 'H', 'I', 'J', 'K', 'L', 'M',\n",
    "               'N', 'O', 'P', 'Q', 'R', 'S', 'T', 'U', 'V', 'W', 'X', 'Y', 'Z']"
   ]
  },
  {
   "cell_type": "code",
   "execution_count": 24,
   "metadata": {},
   "outputs": [
    {
     "data": {
      "text/plain": [
       "array([ 3,  8,  4,  6,  2,  7,  7,  4, 14,  9,  6,  8,  0,  8,  8,  8],\n",
       "      dtype=int64)"
      ]
     },
     "execution_count": 24,
     "metadata": {},
     "output_type": "execute_result"
    }
   ],
   "source": [
    "x_test[10]"
   ]
  },
  {
   "cell_type": "code",
   "execution_count": 25,
   "metadata": {},
   "outputs": [
    {
     "data": {
      "text/plain": [
       "'Z'"
      ]
     },
     "execution_count": 25,
     "metadata": {},
     "output_type": "execute_result"
    }
   ],
   "source": [
    "y_test[10]"
   ]
  },
  {
   "cell_type": "markdown",
   "metadata": {},
   "source": [
    "### Preporcessing"
   ]
  },
  {
   "cell_type": "code",
   "execution_count": 26,
   "metadata": {},
   "outputs": [],
   "source": [
    "x_train = x_train/255\n",
    "x_test = x_test/255"
   ]
  },
  {
   "cell_type": "code",
   "execution_count": 27,
   "metadata": {},
   "outputs": [],
   "source": [
    "from sklearn.preprocessing import LabelEncoder\n",
    "\n",
    "encoder = LabelEncoder()\n",
    "y_train = encoder.fit_transform(y_train)\n",
    "y_test = encoder.fit_transform(y_test)"
   ]
  },
  {
   "cell_type": "markdown",
   "metadata": {},
   "source": [
    "### Building Model"
   ]
  },
  {
   "cell_type": "code",
   "execution_count": 28,
   "metadata": {},
   "outputs": [],
   "source": [
    "from tensorflow.keras.models import Sequential\n",
    "from tensorflow.keras.layers import Dense, Dropout"
   ]
  },
  {
   "cell_type": "code",
   "execution_count": 30,
   "metadata": {},
   "outputs": [
    {
     "name": "stdout",
     "output_type": "stream",
     "text": [
      "Model: \"sequential\"\n",
      "_________________________________________________________________\n",
      " Layer (type)                Output Shape              Param #   \n",
      "=================================================================\n",
      " dense (Dense)               (None, 512)               8704      \n",
      "                                                                 \n",
      " dropout (Dropout)           (None, 512)               0         \n",
      "                                                                 \n",
      " dense_1 (Dense)             (None, 256)               131328    \n",
      "                                                                 \n",
      " dropout_1 (Dropout)         (None, 256)               0         \n",
      "                                                                 \n",
      " dense_2 (Dense)             (None, 26)                6682      \n",
      "                                                                 \n",
      "=================================================================\n",
      "Total params: 146,714\n",
      "Trainable params: 146,714\n",
      "Non-trainable params: 0\n",
      "_________________________________________________________________\n"
     ]
    }
   ],
   "source": [
    "model = Sequential()\n",
    "model.add(Dense(512, activation='relu', input_shape=(16,)))\n",
    "model.add(Dropout(0.2))\n",
    "model.add(Dense(256, activation='relu'))\n",
    "model.add(Dropout(0.2))\n",
    "model.add(Dense(26, activation='softmax'))\n",
    "model.compile(optimizer='adam',\n",
    "              loss='sparse_categorical_crossentropy', metrics=['accuracy'])\n",
    "model.summary()"
   ]
  },
  {
   "cell_type": "markdown",
   "metadata": {},
   "source": [
    "### Traning model"
   ]
  },
  {
   "cell_type": "code",
   "execution_count": 31,
   "metadata": {},
   "outputs": [
    {
     "name": "stdout",
     "output_type": "stream",
     "text": [
      "Epoch 1/50\n",
      "125/125 [==============================] - 1s 6ms/step - loss: 3.1315 - accuracy: 0.1413 - val_loss: 2.7592 - val_accuracy: 0.2415\n",
      "Epoch 2/50\n",
      "125/125 [==============================] - 0s 4ms/step - loss: 2.3804 - accuracy: 0.3071 - val_loss: 2.0628 - val_accuracy: 0.4020\n",
      "Epoch 3/50\n",
      "125/125 [==============================] - 0s 4ms/step - loss: 1.9867 - accuracy: 0.3972 - val_loss: 1.8014 - val_accuracy: 0.4888\n",
      "Epoch 4/50\n",
      "125/125 [==============================] - 0s 4ms/step - loss: 1.7801 - accuracy: 0.4589 - val_loss: 1.6253 - val_accuracy: 0.5232\n",
      "Epoch 5/50\n",
      "125/125 [==============================] - 1s 5ms/step - loss: 1.6361 - accuracy: 0.5067 - val_loss: 1.5057 - val_accuracy: 0.5688\n",
      "Epoch 6/50\n",
      "125/125 [==============================] - 1s 5ms/step - loss: 1.5277 - accuracy: 0.5356 - val_loss: 1.4126 - val_accuracy: 0.5947\n",
      "Epoch 7/50\n",
      "125/125 [==============================] - 0s 4ms/step - loss: 1.4559 - accuracy: 0.5595 - val_loss: 1.3427 - val_accuracy: 0.6173\n",
      "Epoch 8/50\n",
      "125/125 [==============================] - 1s 4ms/step - loss: 1.3937 - accuracy: 0.5825 - val_loss: 1.3090 - val_accuracy: 0.6280\n",
      "Epoch 9/50\n",
      "125/125 [==============================] - 1s 4ms/step - loss: 1.3245 - accuracy: 0.6090 - val_loss: 1.2304 - val_accuracy: 0.6545\n",
      "Epoch 10/50\n",
      "125/125 [==============================] - 1s 4ms/step - loss: 1.2809 - accuracy: 0.6233 - val_loss: 1.1812 - val_accuracy: 0.6597\n",
      "Epoch 11/50\n",
      "125/125 [==============================] - 0s 4ms/step - loss: 1.2320 - accuracy: 0.6358 - val_loss: 1.1371 - val_accuracy: 0.6730\n",
      "Epoch 12/50\n",
      "125/125 [==============================] - 1s 4ms/step - loss: 1.1896 - accuracy: 0.6525 - val_loss: 1.1164 - val_accuracy: 0.6700\n",
      "Epoch 13/50\n",
      "125/125 [==============================] - 0s 4ms/step - loss: 1.1417 - accuracy: 0.6615 - val_loss: 1.0524 - val_accuracy: 0.7000\n",
      "Epoch 14/50\n",
      "125/125 [==============================] - 0s 4ms/step - loss: 1.1080 - accuracy: 0.6736 - val_loss: 1.0218 - val_accuracy: 0.7013\n",
      "Epoch 15/50\n",
      "125/125 [==============================] - 0s 3ms/step - loss: 1.0731 - accuracy: 0.6799 - val_loss: 0.9807 - val_accuracy: 0.7113\n",
      "Epoch 16/50\n",
      "125/125 [==============================] - 0s 3ms/step - loss: 1.0383 - accuracy: 0.6896 - val_loss: 0.9854 - val_accuracy: 0.7092\n",
      "Epoch 17/50\n",
      "125/125 [==============================] - 1s 4ms/step - loss: 1.0056 - accuracy: 0.7006 - val_loss: 0.9398 - val_accuracy: 0.7178\n",
      "Epoch 18/50\n",
      "125/125 [==============================] - 0s 4ms/step - loss: 0.9763 - accuracy: 0.7066 - val_loss: 0.9018 - val_accuracy: 0.7368\n",
      "Epoch 19/50\n",
      "125/125 [==============================] - 0s 4ms/step - loss: 0.9532 - accuracy: 0.7140 - val_loss: 0.8774 - val_accuracy: 0.7355\n",
      "Epoch 20/50\n",
      "125/125 [==============================] - 0s 4ms/step - loss: 0.9260 - accuracy: 0.7209 - val_loss: 0.8462 - val_accuracy: 0.7435\n",
      "Epoch 21/50\n",
      "125/125 [==============================] - 0s 4ms/step - loss: 0.9063 - accuracy: 0.7276 - val_loss: 0.8393 - val_accuracy: 0.7398\n",
      "Epoch 22/50\n",
      "125/125 [==============================] - 0s 4ms/step - loss: 0.8871 - accuracy: 0.7321 - val_loss: 0.8007 - val_accuracy: 0.7628\n",
      "Epoch 23/50\n",
      "125/125 [==============================] - 1s 4ms/step - loss: 0.8645 - accuracy: 0.7404 - val_loss: 0.7922 - val_accuracy: 0.7630\n",
      "Epoch 24/50\n",
      "125/125 [==============================] - 0s 4ms/step - loss: 0.8436 - accuracy: 0.7417 - val_loss: 0.7731 - val_accuracy: 0.7635\n",
      "Epoch 25/50\n",
      "125/125 [==============================] - 0s 4ms/step - loss: 0.8218 - accuracy: 0.7525 - val_loss: 0.7620 - val_accuracy: 0.7648\n",
      "Epoch 26/50\n",
      "125/125 [==============================] - 1s 4ms/step - loss: 0.8084 - accuracy: 0.7534 - val_loss: 0.7397 - val_accuracy: 0.7793\n",
      "Epoch 27/50\n",
      "125/125 [==============================] - 0s 3ms/step - loss: 0.7919 - accuracy: 0.7619 - val_loss: 0.7350 - val_accuracy: 0.7763\n",
      "Epoch 28/50\n",
      "125/125 [==============================] - 0s 4ms/step - loss: 0.7765 - accuracy: 0.7617 - val_loss: 0.7034 - val_accuracy: 0.7903\n",
      "Epoch 29/50\n",
      "125/125 [==============================] - 0s 4ms/step - loss: 0.7639 - accuracy: 0.7690 - val_loss: 0.6941 - val_accuracy: 0.7895\n",
      "Epoch 30/50\n",
      "125/125 [==============================] - 1s 4ms/step - loss: 0.7499 - accuracy: 0.7722 - val_loss: 0.7071 - val_accuracy: 0.7782\n",
      "Epoch 31/50\n",
      "125/125 [==============================] - 0s 3ms/step - loss: 0.7324 - accuracy: 0.7778 - val_loss: 0.6634 - val_accuracy: 0.7972\n",
      "Epoch 32/50\n",
      "125/125 [==============================] - 1s 4ms/step - loss: 0.7181 - accuracy: 0.7793 - val_loss: 0.6613 - val_accuracy: 0.7983\n",
      "Epoch 33/50\n",
      "125/125 [==============================] - 0s 3ms/step - loss: 0.7060 - accuracy: 0.7849 - val_loss: 0.6374 - val_accuracy: 0.8033\n",
      "Epoch 34/50\n",
      "125/125 [==============================] - 0s 4ms/step - loss: 0.6916 - accuracy: 0.7878 - val_loss: 0.6292 - val_accuracy: 0.8073\n",
      "Epoch 35/50\n",
      "125/125 [==============================] - 0s 4ms/step - loss: 0.6782 - accuracy: 0.7915 - val_loss: 0.6287 - val_accuracy: 0.8077\n",
      "Epoch 36/50\n",
      "125/125 [==============================] - 0s 4ms/step - loss: 0.6736 - accuracy: 0.7902 - val_loss: 0.6047 - val_accuracy: 0.8130\n",
      "Epoch 37/50\n",
      "125/125 [==============================] - 0s 4ms/step - loss: 0.6568 - accuracy: 0.8004 - val_loss: 0.6001 - val_accuracy: 0.8167\n",
      "Epoch 38/50\n",
      "125/125 [==============================] - 0s 4ms/step - loss: 0.6452 - accuracy: 0.8019 - val_loss: 0.5795 - val_accuracy: 0.8230\n",
      "Epoch 39/50\n",
      "125/125 [==============================] - 1s 4ms/step - loss: 0.6369 - accuracy: 0.8027 - val_loss: 0.5693 - val_accuracy: 0.8260\n",
      "Epoch 40/50\n",
      "125/125 [==============================] - 0s 4ms/step - loss: 0.6273 - accuracy: 0.8039 - val_loss: 0.5628 - val_accuracy: 0.8270\n",
      "Epoch 41/50\n",
      "125/125 [==============================] - 0s 4ms/step - loss: 0.6142 - accuracy: 0.8098 - val_loss: 0.5473 - val_accuracy: 0.8342\n",
      "Epoch 42/50\n",
      "125/125 [==============================] - 0s 4ms/step - loss: 0.6029 - accuracy: 0.8152 - val_loss: 0.5352 - val_accuracy: 0.8353\n",
      "Epoch 43/50\n",
      "125/125 [==============================] - 0s 4ms/step - loss: 0.5994 - accuracy: 0.8150 - val_loss: 0.5275 - val_accuracy: 0.8393\n",
      "Epoch 44/50\n",
      "125/125 [==============================] - 0s 4ms/step - loss: 0.5899 - accuracy: 0.8180 - val_loss: 0.5218 - val_accuracy: 0.8370\n",
      "Epoch 45/50\n",
      "125/125 [==============================] - 0s 4ms/step - loss: 0.5800 - accuracy: 0.8213 - val_loss: 0.5054 - val_accuracy: 0.8462\n",
      "Epoch 46/50\n",
      "125/125 [==============================] - 0s 4ms/step - loss: 0.5615 - accuracy: 0.8245 - val_loss: 0.4987 - val_accuracy: 0.8445\n",
      "Epoch 47/50\n",
      "125/125 [==============================] - 0s 4ms/step - loss: 0.5644 - accuracy: 0.8255 - val_loss: 0.4833 - val_accuracy: 0.8520\n",
      "Epoch 48/50\n",
      "125/125 [==============================] - 0s 4ms/step - loss: 0.5445 - accuracy: 0.8316 - val_loss: 0.4863 - val_accuracy: 0.8528\n",
      "Epoch 49/50\n",
      "125/125 [==============================] - 0s 4ms/step - loss: 0.5451 - accuracy: 0.8336 - val_loss: 0.4762 - val_accuracy: 0.8525\n",
      "Epoch 50/50\n",
      "125/125 [==============================] - 0s 4ms/step - loss: 0.5307 - accuracy: 0.8338 - val_loss: 0.4652 - val_accuracy: 0.8568\n"
     ]
    },
    {
     "data": {
      "text/plain": [
       "<keras.callbacks.History at 0x23f93ebf9d0>"
      ]
     },
     "execution_count": 31,
     "metadata": {},
     "output_type": "execute_result"
    }
   ],
   "source": [
    "model.fit(x_train, y_train, epochs=50, batch_size=128, verbose=1,\n",
    "          validation_data=(x_test, y_test))"
   ]
  },
  {
   "cell_type": "markdown",
   "metadata": {},
   "source": [
    "### Testing Model"
   ]
  },
  {
   "cell_type": "code",
   "execution_count": 32,
   "metadata": {},
   "outputs": [
    {
     "name": "stdout",
     "output_type": "stream",
     "text": [
      "125/125 [==============================] - 0s 1ms/step\n"
     ]
    }
   ],
   "source": [
    "predictions = model.predict(x_test)"
   ]
  },
  {
   "cell_type": "code",
   "execution_count": 33,
   "metadata": {},
   "outputs": [
    {
     "name": "stdout",
     "output_type": "stream",
     "text": [
      "[1.17321136e-17 5.35056932e-09 1.64743774e-08 9.71896008e-10\n",
      " 4.67594946e-04 4.87232725e-08 1.84195803e-09 3.99337574e-16\n",
      " 6.99683460e-06 7.39332293e-08 9.00119331e-18 2.45829557e-09\n",
      " 8.37606869e-31 1.30257278e-29 1.79807506e-16 2.27104631e-13\n",
      " 8.01757185e-12 4.82196335e-18 1.87170750e-03 6.65564494e-06\n",
      " 1.81449913e-19 1.90212716e-22 0.00000000e+00 5.48992460e-08\n",
      " 1.71190449e-12 9.97646809e-01]\n",
      "Actual label : 25\n",
      "Predicted label : 25\n",
      "Class (A-Z) : Z\n"
     ]
    }
   ],
   "source": [
    "index = 10\n",
    "print(predictions[index])\n",
    "final_value = np.argmax(predictions[index])\n",
    "print(\"Actual label :\", y_test[index])\n",
    "print(\"Predicted label :\", final_value)\n",
    "print(\"Class (A-Z) :\", class_names[final_value])"
   ]
  },
  {
   "cell_type": "markdown",
   "metadata": {},
   "source": [
    "### Evalulating Our Model"
   ]
  },
  {
   "cell_type": "code",
   "execution_count": 34,
   "metadata": {},
   "outputs": [
    {
     "name": "stdout",
     "output_type": "stream",
     "text": [
      "125/125 [==============================] - 0s 2ms/step - loss: 0.4652 - accuracy: 0.8568\n",
      "Loss : 0.46518829464912415\n",
      "Accuracy (Test Data) : 85.67500114440918\n"
     ]
    }
   ],
   "source": [
    "loss, accuracy = model.evaluate(x_test, y_test)\n",
    "print(\"Loss :\", loss)\n",
    "print(\"Accuracy (Test Data) :\", accuracy*100)"
   ]
  }
 ],
 "metadata": {
  "kernelspec": {
   "display_name": "Python 3 (ipykernel)",
   "language": "python",
   "name": "python3"
  },
  "language_info": {
   "codemirror_mode": {
    "name": "ipython",
    "version": 3
   },
   "file_extension": ".py",
   "mimetype": "text/x-python",
   "name": "python",
   "nbconvert_exporter": "python",
   "pygments_lexer": "ipython3",
   "version": "3.10.0"
  }
 },
 "nbformat": 4,
 "nbformat_minor": 4
}
