{
 "cells": [
  {
   "cell_type": "markdown",
   "id": "9115b94d-0e8d-4fb3-965c-9b8a993a9845",
   "metadata": {},
   "source": [
    "## Problem Statement\n",
    "Use any dataset of plant disease and design a plant disease detection system\r\n",
    "using CNN."
   ]
  },
  {
   "cell_type": "code",
   "execution_count": 1,
   "id": "b1907b76-1cae-43a8-848c-ff7992f93cca",
   "metadata": {},
   "outputs": [
    {
     "name": "stdout",
     "output_type": "stream",
     "text": [
      "WARNING:tensorflow:From C:\\Users\\vishal\\miniconda3\\envs\\py310\\lib\\site-packages\\keras\\src\\losses.py:2976: The name tf.losses.sparse_softmax_cross_entropy is deprecated. Please use tf.compat.v1.losses.sparse_softmax_cross_entropy instead.\n",
      "\n"
     ]
    }
   ],
   "source": [
    "from tensorflow.keras.preprocessing.image import ImageDataGenerator, load_img, img_to_array"
   ]
  },
  {
   "cell_type": "code",
   "execution_count": 2,
   "id": "79bb8f00-304f-403c-8f00-80cda4717dee",
   "metadata": {},
   "outputs": [],
   "source": [
    "train_dir = \"custom/train\"\n",
    "val_dir = \"custom/valid\"\n",
    "test_dir = \"custom/test\""
   ]
  },
  {
   "cell_type": "code",
   "execution_count": 3,
   "id": "22666a60-0290-4c7b-87ac-1cd86ca40c9b",
   "metadata": {},
   "outputs": [],
   "source": [
    "img_size = 224\n",
    "batch_size = 32"
   ]
  },
  {
   "cell_type": "markdown",
   "id": "6c0c642d-9695-4136-bdf7-579934c21b6e",
   "metadata": {},
   "source": [
    "## Preprocessing"
   ]
  },
  {
   "cell_type": "code",
   "execution_count": 4,
   "id": "d2d28077-67bf-4b69-ab89-8c7b8311c456",
   "metadata": {},
   "outputs": [
    {
     "name": "stdout",
     "output_type": "stream",
     "text": [
      "Found 7316 images belonging to 4 classes.\n"
     ]
    }
   ],
   "source": [
    "train_datagen = ImageDataGenerator(rescale=1./255)\n",
    "train_generator = train_datagen.flow_from_directory(train_dir,\n",
    "                                                    target_size=(img_size, img_size),\n",
    "                                                    batch_size=batch_size, \n",
    "                                                    class_mode='categorical')"
   ]
  },
  {
   "cell_type": "code",
   "execution_count": 5,
   "id": "8acf0217-d360-4b9b-b81c-4bc4a1294d0d",
   "metadata": {},
   "outputs": [
    {
     "name": "stdout",
     "output_type": "stream",
     "text": [
      "Found 1829 images belonging to 4 classes.\n"
     ]
    }
   ],
   "source": [
    "val_datagen = ImageDataGenerator(rescale=1./255)\n",
    "val_generator = val_datagen.flow_from_directory(val_dir, target_size=(img_size, img_size), batch_size=batch_size, class_mode='categorical')"
   ]
  },
  {
   "cell_type": "markdown",
   "id": "7e47c40d-bc5a-46b1-8123-a4920a3c63bc",
   "metadata": {},
   "source": [
    "## Taking **corn** class"
   ]
  },
  {
   "cell_type": "code",
   "execution_count": 6,
   "id": "46967639-07dc-4756-aa09-d1b8d0c366fe",
   "metadata": {},
   "outputs": [
    {
     "name": "stdout",
     "output_type": "stream",
     "text": [
      "['Corn_(maize)___Cercospora_leaf_spot Gray_leaf_spot',\n",
      " 'Corn_(maize)___Common_rust_', 'Corn_(maize)___Northern_Leaf_Blight',\n",
      " 'Corn_(maize)___healthy']\n"
     ]
    }
   ],
   "source": [
    "from pprint import pprint\n",
    "\n",
    "pprint(list(train_generator.class_indices), compact=True)"
   ]
  },
  {
   "cell_type": "markdown",
   "id": "ad34b4ae-76ee-4911-aff1-fb081cbb1399",
   "metadata": {},
   "source": [
    "## Building Model"
   ]
  },
  {
   "cell_type": "code",
   "execution_count": 7,
   "id": "07c219f3-7074-4f99-a449-6cb3a80c031f",
   "metadata": {},
   "outputs": [],
   "source": [
    "from tensorflow.keras.models import Sequential\n",
    "from tensorflow.keras.layers import Conv2D, MaxPooling2D, Flatten, Dense, Dropout, BatchNormalization"
   ]
  },
  {
   "cell_type": "code",
   "execution_count": 8,
   "id": "773ad9b7-53bc-4c37-acaf-abbd1b25ff16",
   "metadata": {},
   "outputs": [
    {
     "name": "stdout",
     "output_type": "stream",
     "text": [
      "WARNING:tensorflow:From C:\\Users\\vishal\\miniconda3\\envs\\py310\\lib\\site-packages\\keras\\src\\backend.py:873: The name tf.get_default_graph is deprecated. Please use tf.compat.v1.get_default_graph instead.\n",
      "\n",
      "WARNING:tensorflow:From C:\\Users\\vishal\\miniconda3\\envs\\py310\\lib\\site-packages\\keras\\src\\layers\\normalization\\batch_normalization.py:979: The name tf.nn.fused_batch_norm is deprecated. Please use tf.compat.v1.nn.fused_batch_norm instead.\n",
      "\n",
      "Model: \"sequential\"\n",
      "_________________________________________________________________\n",
      " Layer (type)                Output Shape              Param #   \n",
      "=================================================================\n",
      " conv2d (Conv2D)             (None, 222, 222, 32)      896       \n",
      "                                                                 \n",
      " batch_normalization (Batch  (None, 222, 222, 32)      128       \n",
      " Normalization)                                                  \n",
      "                                                                 \n",
      " max_pooling2d (MaxPooling2  (None, 111, 111, 32)      0         \n",
      " D)                                                              \n",
      "                                                                 \n",
      " conv2d_1 (Conv2D)           (None, 109, 109, 64)      18496     \n",
      "                                                                 \n",
      " batch_normalization_1 (Bat  (None, 109, 109, 64)      256       \n",
      " chNormalization)                                                \n",
      "                                                                 \n",
      " max_pooling2d_1 (MaxPoolin  (None, 54, 54, 64)        0         \n",
      " g2D)                                                            \n",
      "                                                                 \n",
      " conv2d_2 (Conv2D)           (None, 52, 52, 64)        36928     \n",
      "                                                                 \n",
      " batch_normalization_2 (Bat  (None, 52, 52, 64)        256       \n",
      " chNormalization)                                                \n",
      "                                                                 \n",
      " max_pooling2d_2 (MaxPoolin  (None, 26, 26, 64)        0         \n",
      " g2D)                                                            \n",
      "                                                                 \n",
      " conv2d_3 (Conv2D)           (None, 24, 24, 128)       73856     \n",
      "                                                                 \n",
      " batch_normalization_3 (Bat  (None, 24, 24, 128)       512       \n",
      " chNormalization)                                                \n",
      "                                                                 \n",
      " max_pooling2d_3 (MaxPoolin  (None, 12, 12, 128)       0         \n",
      " g2D)                                                            \n",
      "                                                                 \n",
      " flatten (Flatten)           (None, 18432)             0         \n",
      "                                                                 \n",
      " dense (Dense)               (None, 128)               2359424   \n",
      "                                                                 \n",
      " dropout (Dropout)           (None, 128)               0         \n",
      "                                                                 \n",
      " dense_1 (Dense)             (None, 64)                8256      \n",
      "                                                                 \n",
      " dense_2 (Dense)             (None, 4)                 260       \n",
      "                                                                 \n",
      "=================================================================\n",
      "Total params: 2499268 (9.53 MB)\n",
      "Trainable params: 2498692 (9.53 MB)\n",
      "Non-trainable params: 576 (2.25 KB)\n",
      "_________________________________________________________________\n"
     ]
    }
   ],
   "source": [
    "model = Sequential()\n",
    "model.add((Conv2D(32, (3,3), activation='relu', input_shape=(img_size, img_size, 3))))\n",
    "model.add(BatchNormalization())\n",
    "model.add((MaxPooling2D(2,2)))\n",
    "model.add((Conv2D(64, (3,3), activation='relu')))\n",
    "model.add(BatchNormalization())\n",
    "model.add((MaxPooling2D(2,2)))\n",
    "model.add((Conv2D(64, (3,3), activation='relu')))\n",
    "model.add(BatchNormalization())\n",
    "model.add((MaxPooling2D(2,2)))\n",
    "model.add((Conv2D(128, (3,3), activation='relu')))\n",
    "model.add(BatchNormalization())\n",
    "model.add((MaxPooling2D(2,2)))\n",
    "model.add((Flatten()))\n",
    "model.add((Dense(128, activation='relu')))\n",
    "model.add((Dropout(0.2)))\n",
    "model.add((Dense(64, activation='relu')))\n",
    "model.add((Dense(train_generator.num_classes, activation='softmax')))\n",
    "model.summary()"
   ]
  },
  {
   "cell_type": "code",
   "execution_count": 9,
   "id": "7904310b-9986-42f6-8581-36dc2ba65500",
   "metadata": {},
   "outputs": [
    {
     "name": "stdout",
     "output_type": "stream",
     "text": [
      "WARNING:tensorflow:From C:\\Users\\vishal\\miniconda3\\envs\\py310\\lib\\site-packages\\keras\\src\\optimizers\\__init__.py:309: The name tf.train.Optimizer is deprecated. Please use tf.compat.v1.train.Optimizer instead.\n",
      "\n"
     ]
    }
   ],
   "source": [
    "model.compile(optimizer='adam', loss='categorical_crossentropy', metrics=['accuracy'])"
   ]
  },
  {
   "cell_type": "markdown",
   "id": "a3732050-5f2b-4123-bf41-beed85161917",
   "metadata": {},
   "source": [
    "## Traning Our Model"
   ]
  },
  {
   "cell_type": "code",
   "execution_count": 10,
   "id": "9b3cc425-775f-46eb-81b5-92f5d66bce31",
   "metadata": {},
   "outputs": [
    {
     "name": "stdout",
     "output_type": "stream",
     "text": [
      "Epoch 1/50\n",
      "WARNING:tensorflow:From C:\\Users\\vishal\\miniconda3\\envs\\py310\\lib\\site-packages\\keras\\src\\utils\\tf_utils.py:492: The name tf.ragged.RaggedTensorValue is deprecated. Please use tf.compat.v1.ragged.RaggedTensorValue instead.\n",
      "\n",
      "WARNING:tensorflow:From C:\\Users\\vishal\\miniconda3\\envs\\py310\\lib\\site-packages\\keras\\src\\engine\\base_layer_utils.py:384: The name tf.executing_eagerly_outside_functions is deprecated. Please use tf.compat.v1.executing_eagerly_outside_functions instead.\n",
      "\n",
      "229/229 [==============================] - 126s 543ms/step - loss: 0.4069 - accuracy: 0.8969 - val_loss: 7.1070 - val_accuracy: 0.3160\n",
      "Epoch 2/50\n",
      "229/229 [==============================] - 97s 422ms/step - loss: 0.1955 - accuracy: 0.9404 - val_loss: 0.8356 - val_accuracy: 0.8179\n",
      "Epoch 3/50\n",
      "229/229 [==============================] - 98s 429ms/step - loss: 0.1469 - accuracy: 0.9511 - val_loss: 0.1639 - val_accuracy: 0.9420\n",
      "Epoch 4/50\n",
      "229/229 [==============================] - 98s 427ms/step - loss: 0.0970 - accuracy: 0.9675 - val_loss: 0.1386 - val_accuracy: 0.9623\n",
      "Epoch 5/50\n",
      "229/229 [==============================] - 101s 440ms/step - loss: 0.0811 - accuracy: 0.9717 - val_loss: 0.3400 - val_accuracy: 0.9273\n",
      "Epoch 6/50\n",
      "229/229 [==============================] - 96s 421ms/step - loss: 0.0937 - accuracy: 0.9679 - val_loss: 1.6981 - val_accuracy: 0.7485\n",
      "Epoch 7/50\n",
      "229/229 [==============================] - 100s 438ms/step - loss: 0.0834 - accuracy: 0.9717 - val_loss: 0.3867 - val_accuracy: 0.9245\n",
      "Epoch 8/50\n",
      "229/229 [==============================] - 100s 438ms/step - loss: 0.0995 - accuracy: 0.9709 - val_loss: 0.3239 - val_accuracy: 0.9612\n",
      "Epoch 9/50\n",
      "229/229 [==============================] - 103s 450ms/step - loss: 0.1115 - accuracy: 0.9683 - val_loss: 0.3412 - val_accuracy: 0.9366\n",
      "Epoch 10/50\n",
      "229/229 [==============================] - 104s 453ms/step - loss: 0.0444 - accuracy: 0.9835 - val_loss: 0.2116 - val_accuracy: 0.9688\n",
      "Epoch 11/50\n",
      "229/229 [==============================] - 105s 458ms/step - loss: 0.0423 - accuracy: 0.9865 - val_loss: 1.0803 - val_accuracy: 0.8628\n",
      "Epoch 12/50\n",
      "229/229 [==============================] - 104s 452ms/step - loss: 0.0312 - accuracy: 0.9897 - val_loss: 0.1793 - val_accuracy: 0.9661\n",
      "Epoch 13/50\n",
      "229/229 [==============================] - 99s 433ms/step - loss: 0.0290 - accuracy: 0.9914 - val_loss: 0.1422 - val_accuracy: 0.9754\n",
      "Epoch 14/50\n",
      "229/229 [==============================] - 98s 429ms/step - loss: 0.0340 - accuracy: 0.9900 - val_loss: 0.2745 - val_accuracy: 0.9295\n",
      "Epoch 15/50\n",
      "229/229 [==============================] - 96s 421ms/step - loss: 0.0285 - accuracy: 0.9903 - val_loss: 0.1428 - val_accuracy: 0.9688\n",
      "Epoch 16/50\n",
      "229/229 [==============================] - 97s 422ms/step - loss: 0.0271 - accuracy: 0.9911 - val_loss: 0.2211 - val_accuracy: 0.9552\n",
      "Epoch 17/50\n",
      "229/229 [==============================] - 96s 420ms/step - loss: 0.0286 - accuracy: 0.9922 - val_loss: 0.1637 - val_accuracy: 0.9759\n",
      "Epoch 18/50\n",
      "229/229 [==============================] - 97s 422ms/step - loss: 0.0275 - accuracy: 0.9922 - val_loss: 0.2503 - val_accuracy: 0.9464\n",
      "Epoch 19/50\n",
      "229/229 [==============================] - 98s 426ms/step - loss: 0.0264 - accuracy: 0.9934 - val_loss: 0.8941 - val_accuracy: 0.8398\n",
      "Epoch 20/50\n",
      "229/229 [==============================] - 96s 419ms/step - loss: 0.0211 - accuracy: 0.9936 - val_loss: 0.1457 - val_accuracy: 0.9677\n",
      "Epoch 21/50\n",
      "229/229 [==============================] - 96s 420ms/step - loss: 0.0139 - accuracy: 0.9948 - val_loss: 0.1529 - val_accuracy: 0.9759\n",
      "Epoch 22/50\n",
      "229/229 [==============================] - 96s 420ms/step - loss: 0.0332 - accuracy: 0.9941 - val_loss: 0.6214 - val_accuracy: 0.9071\n",
      "Epoch 23/50\n",
      "229/229 [==============================] - 96s 420ms/step - loss: 0.0346 - accuracy: 0.9906 - val_loss: 0.4101 - val_accuracy: 0.9300\n",
      "Epoch 24/50\n",
      "229/229 [==============================] - 96s 419ms/step - loss: 0.0182 - accuracy: 0.9932 - val_loss: 0.9195 - val_accuracy: 0.8759\n",
      "Epoch 25/50\n",
      "229/229 [==============================] - 96s 420ms/step - loss: 0.0362 - accuracy: 0.9914 - val_loss: 0.7233 - val_accuracy: 0.8327\n",
      "Epoch 26/50\n",
      "229/229 [==============================] - 96s 419ms/step - loss: 0.0433 - accuracy: 0.9926 - val_loss: 0.1987 - val_accuracy: 0.9705\n",
      "Epoch 27/50\n",
      "229/229 [==============================] - 96s 420ms/step - loss: 0.0088 - accuracy: 0.9966 - val_loss: 0.1718 - val_accuracy: 0.9710\n",
      "Epoch 28/50\n",
      "229/229 [==============================] - 96s 420ms/step - loss: 0.0066 - accuracy: 0.9977 - val_loss: 0.2035 - val_accuracy: 0.9672\n",
      "Epoch 29/50\n",
      "229/229 [==============================] - 96s 421ms/step - loss: 0.0074 - accuracy: 0.9971 - val_loss: 0.4957 - val_accuracy: 0.9005\n",
      "Epoch 30/50\n",
      "229/229 [==============================] - 96s 420ms/step - loss: 0.0093 - accuracy: 0.9970 - val_loss: 0.1950 - val_accuracy: 0.9759\n",
      "Epoch 31/50\n",
      "229/229 [==============================] - 96s 419ms/step - loss: 0.0117 - accuracy: 0.9958 - val_loss: 0.1815 - val_accuracy: 0.9727\n",
      "Epoch 32/50\n",
      "229/229 [==============================] - 96s 419ms/step - loss: 0.0157 - accuracy: 0.9951 - val_loss: 0.4179 - val_accuracy: 0.9513\n",
      "Epoch 33/50\n",
      "229/229 [==============================] - 96s 418ms/step - loss: 0.0191 - accuracy: 0.9955 - val_loss: 0.3951 - val_accuracy: 0.9410\n",
      "Epoch 34/50\n",
      "229/229 [==============================] - 97s 421ms/step - loss: 0.0434 - accuracy: 0.9914 - val_loss: 0.3491 - val_accuracy: 0.9666\n",
      "Epoch 35/50\n",
      "229/229 [==============================] - 96s 421ms/step - loss: 0.0156 - accuracy: 0.9952 - val_loss: 0.3194 - val_accuracy: 0.9623\n",
      "Epoch 36/50\n",
      "229/229 [==============================] - 96s 421ms/step - loss: 0.0106 - accuracy: 0.9969 - val_loss: 0.3947 - val_accuracy: 0.9475\n",
      "Epoch 37/50\n",
      "229/229 [==============================] - 96s 418ms/step - loss: 0.0050 - accuracy: 0.9982 - val_loss: 0.2182 - val_accuracy: 0.9776\n",
      "Epoch 38/50\n",
      "229/229 [==============================] - 96s 419ms/step - loss: 0.0120 - accuracy: 0.9958 - val_loss: 2.1328 - val_accuracy: 0.7731\n",
      "Epoch 39/50\n",
      "229/229 [==============================] - 96s 418ms/step - loss: 0.0124 - accuracy: 0.9967 - val_loss: 0.2287 - val_accuracy: 0.9732\n",
      "Epoch 40/50\n",
      "229/229 [==============================] - 96s 417ms/step - loss: 0.0044 - accuracy: 0.9982 - val_loss: 0.4657 - val_accuracy: 0.9163\n",
      "Epoch 41/50\n",
      "229/229 [==============================] - 96s 419ms/step - loss: 0.0087 - accuracy: 0.9977 - val_loss: 0.2115 - val_accuracy: 0.9792\n",
      "Epoch 42/50\n",
      "229/229 [==============================] - 98s 426ms/step - loss: 0.0164 - accuracy: 0.9958 - val_loss: 0.7481 - val_accuracy: 0.9191\n",
      "Epoch 43/50\n",
      "229/229 [==============================] - 101s 442ms/step - loss: 0.0283 - accuracy: 0.9938 - val_loss: 0.2604 - val_accuracy: 0.9568\n",
      "Epoch 44/50\n",
      "229/229 [==============================] - 99s 432ms/step - loss: 0.1413 - accuracy: 0.9921 - val_loss: 0.2499 - val_accuracy: 0.9267\n",
      "Epoch 45/50\n",
      "229/229 [==============================] - 100s 435ms/step - loss: 0.0108 - accuracy: 0.9959 - val_loss: 0.2033 - val_accuracy: 0.9650\n",
      "Epoch 46/50\n",
      "229/229 [==============================] - 100s 436ms/step - loss: 0.0052 - accuracy: 0.9985 - val_loss: 0.1661 - val_accuracy: 0.9710\n",
      "Epoch 47/50\n",
      "229/229 [==============================] - 99s 433ms/step - loss: 0.0028 - accuracy: 0.9992 - val_loss: 0.1760 - val_accuracy: 0.9765\n",
      "Epoch 48/50\n",
      "229/229 [==============================] - 97s 424ms/step - loss: 0.0010 - accuracy: 0.9997 - val_loss: 0.1827 - val_accuracy: 0.9748\n",
      "Epoch 49/50\n",
      "229/229 [==============================] - 97s 425ms/step - loss: 0.0052 - accuracy: 0.9989 - val_loss: 0.5565 - val_accuracy: 0.9251\n",
      "Epoch 50/50\n",
      "229/229 [==============================] - 97s 424ms/step - loss: 0.0080 - accuracy: 0.9984 - val_loss: 0.2535 - val_accuracy: 0.9623\n"
     ]
    },
    {
     "data": {
      "text/plain": [
       "<keras.src.callbacks.History at 0x2b87d80c8e0>"
      ]
     },
     "execution_count": 10,
     "metadata": {},
     "output_type": "execute_result"
    }
   ],
   "source": [
    "model.fit(train_generator, epochs=50, validation_data=val_generator)"
   ]
  },
  {
   "cell_type": "markdown",
   "id": "03779ec7-9bfd-43f1-990b-919b7dc6713c",
   "metadata": {},
   "source": [
    "### Evalulating Our Model"
   ]
  },
  {
   "cell_type": "code",
   "execution_count": 11,
   "id": "011fffbb-33b7-48e1-8ef0-75667b52eaa5",
   "metadata": {},
   "outputs": [
    {
     "name": "stdout",
     "output_type": "stream",
     "text": [
      "58/58 [==============================] - 7s 121ms/step - loss: 0.2535 - accuracy: 0.9623\n",
      "Loss : 0.2535024881362915\n",
      "Accuracy (Test Data) : 96.22744917869568\n"
     ]
    }
   ],
   "source": [
    "loss, accuracy = model.evaluate(val_generator)\n",
    "print(\"Loss :\", loss)\n",
    "print(\"Accuracy (Test Data) :\",accuracy*100)"
   ]
  },
  {
   "cell_type": "markdown",
   "id": "e5a1ce37-5677-4f37-b8e4-93c907fea4a1",
   "metadata": {},
   "source": [
    "## Testing The Model"
   ]
  },
  {
   "cell_type": "code",
   "execution_count": 23,
   "id": "c85e0838-0754-47e5-a9de-bf7392a1564c",
   "metadata": {},
   "outputs": [],
   "source": [
    "class_names= [\n",
    "    'Corn_(maize)___Cercospora_leaf_spot Gray_leaf_spot',\n",
    "    'Corn_(maize)___Common_rust_', 'Corn_(maize)___Northern_Leaf_Blight',\n",
    "    'Corn_(maize)___healthy']"
   ]
  },
  {
   "cell_type": "code",
   "execution_count": 24,
   "id": "2cb3a989-1832-49fa-928d-54b912f12f9c",
   "metadata": {},
   "outputs": [
    {
     "name": "stdout",
     "output_type": "stream",
     "text": [
      "['CornCommonRust1.JPG', 'CornCommonRust2.JPG', 'CornCommonRust3.JPG']\n"
     ]
    }
   ],
   "source": [
    "import numpy as np\n",
    "import os\n",
    "\n",
    "test_imgs = os.listdir('custom/test')\n",
    "pprint(test_imgs)"
   ]
  },
  {
   "cell_type": "code",
   "execution_count": 25,
   "id": "271eb8a1-bafe-4aa7-bebe-57be001e67ff",
   "metadata": {},
   "outputs": [
    {
     "name": "stdout",
     "output_type": "stream",
     "text": [
      "\n",
      "\n",
      "CornCommonRust1.JPG prediction: [[0. 1. 0. 0.]]\n",
      "CornCommonRust1.JPG predicted class:  1\n",
      "Predicted class: Corn_(maize)___Common_rust_\n",
      "\n",
      "\n",
      "CornCommonRust2.JPG prediction: [[0. 1. 0. 0.]]\n",
      "CornCommonRust2.JPG predicted class:  1\n",
      "Predicted class: Corn_(maize)___Common_rust_\n",
      "\n",
      "\n",
      "CornCommonRust3.JPG prediction: [[0. 1. 0. 0.]]\n",
      "CornCommonRust3.JPG predicted class:  1\n",
      "Predicted class: Corn_(maize)___Common_rust_\n"
     ]
    }
   ],
   "source": [
    "for test_img in test_imgs:\n",
    "    print('\\n')\n",
    "    img_path = 'custom/test/' + test_img\n",
    "    img = load_img(img_path, target_size=(224, 224))\n",
    "    img_array = img_to_array(img)\n",
    "    img_array = np.expand_dims(img_array, axis=0)\n",
    "    img_array /= 255.\n",
    "\n",
    "    predicted_class = np.argmax(prediction)\n",
    "    print(test_img, 'prediction:', prediction)\n",
    "    print(test_img, 'predicted class: ', predicted_class)\n",
    "    print('Predicted class:', class_names[predicted_class])"
   ]
  }
 ],
 "metadata": {
  "kernelspec": {
   "display_name": "Python 3 (ipykernel)",
   "language": "python",
   "name": "python3"
  },
  "language_info": {
   "codemirror_mode": {
    "name": "ipython",
    "version": 3
   },
   "file_extension": ".py",
   "mimetype": "text/x-python",
   "name": "python",
   "nbconvert_exporter": "python",
   "pygments_lexer": "ipython3",
   "version": "3.10.0"
  }
 },
 "nbformat": 4,
 "nbformat_minor": 5
}
